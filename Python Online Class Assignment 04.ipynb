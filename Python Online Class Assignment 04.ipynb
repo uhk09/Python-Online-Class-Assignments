{
 "cells": [
  {
   "cell_type": "code",
   "execution_count": 1,
   "metadata": {},
   "outputs": [
    {
     "name": "stdout",
     "output_type": "stream",
     "text": [
      "\n",
      "Before addition an element in dictionary\n",
      "My Brother First_Name is Taha\n",
      "My Brother Last_Name is khan\n",
      "My Brother Age is 16\n",
      "\n",
      "After addition an element in dictionary\n",
      "My Brother First_Name is Taha\n",
      "My Brother Last_Name is khan\n",
      "My Brother Age is 16\n",
      "My Brother qualification is BS Software Engineering\n",
      "\n",
      "After changing an element in dictionary\n",
      "My Brother First_Name is Taha\n",
      "My Brother Last_Name is khan\n",
      "My Brother Age is 16\n",
      "My Brother qualification is P.hd in Software Engineering\n",
      "\n",
      "After delete an element in dictionary\n",
      "My Brother First_Name is Taha\n",
      "My Brother Last_Name is khan\n",
      "My Brother Age is 16\n"
     ]
    }
   ],
   "source": [
    "bro_info = {\n",
    "    \"First_Name\" : \"Taha\", \n",
    "    \"Last_Name\" : \"khan\",\n",
    "    \"Age\" : 16,\n",
    "}\n",
    "\n",
    "\n",
    "def info():\n",
    "    for each_key,each_value in bro_info.items():\n",
    "        print(\"My Brother\",each_key,\"is\",each_value)\n",
    "\n",
    "print(\"\\nBefore addition an element in dictionary\")\n",
    "info()\n",
    "\n",
    "print(\"\\nAfter addition an element in dictionary\")\n",
    "bro_info [\"qualification\"] = \"BS Software Engineering\"\n",
    "info()\n",
    "\n",
    "print(\"\\nAfter changing an element in dictionary\")\n",
    "bro_info[\"qualification\"] = \"P.hd in Software Engineering\"\n",
    "info()\n",
    "\n",
    "print(\"\\nAfter delete an element in dictionary\")\n",
    "del bro_info[\"qualification\"]\n",
    "info()"
   ]
  },
  {
   "cell_type": "code",
   "execution_count": 12,
   "metadata": {},
   "outputs": [
    {
     "name": "stdout",
     "output_type": "stream",
     "text": [
      "\n",
      "The city Karachi has {'Country': 'Pakistan', 'Population': 25000000, 'Fact': 'Biggest City of Pakistan'}\n",
      "\n",
      "The city Washington has {'Country': 'United States of America', 'Population': 633427, 'Fact': 'Capital City of USA'}\n",
      "\n",
      "The city London has {'Country': 'United Kingdom', 'Population': 8900000, 'Fact': 'Beautiful city of UK'}\n"
     ]
    }
   ],
   "source": [
    "cities = {\n",
    "    \"Karachi\" : {\n",
    "        \"Country\" : \"Pakistan\",\n",
    "        \"Population\" : 25000000,\n",
    "        \"Fact\" : \"Biggest City of Pakistan\",\n",
    "    },\n",
    "    \"Washington\" : {\n",
    "        \"Country\" : \"United States of America\",\n",
    "        \"Population\" : 633427,\n",
    "        \"Fact\" : \"Capital City of USA\",\n",
    "    },\n",
    "    \"London\" : {\n",
    "        \"Country\" : \"United Kingdom\",\n",
    "        \"Population\" : 8900000,\n",
    "        \"Fact\" : \"Beautiful city of UK\",\n",
    "    }\n",
    "}\n",
    "for each_key,each_value in cities.items():\n",
    "    print(\"\\nThe city\",each_key, \"has\",each_value)"
   ]
  },
  {
   "cell_type": "code",
   "execution_count": 2,
   "metadata": {},
   "outputs": [
    {
     "name": "stdout",
     "output_type": "stream",
     "text": [
      "Welcome! Plese enter your age for calculating your ticket price: 3\n",
      "Your ticket price is $10\n"
     ]
    }
   ],
   "source": [
    "age = int(input(\"Welcome! Plese enter your age for calculating your ticket price: \"))\n",
    "\n",
    "if age < 3:\n",
    "    print(\"Your ticket is free\")\n",
    "elif age >= 3 and age < 12:\n",
    "    print(\"Your ticket price is $10\")\n",
    "elif age >= 12:\n",
    "    print(\"Your ticket price is $15\")"
   ]
  },
  {
   "cell_type": "code",
   "execution_count": 3,
   "metadata": {},
   "outputs": [
    {
     "name": "stdout",
     "output_type": "stream",
     "text": [
      "Please enter your favourite book nameQuran\n",
      "My favourite book of all times is Quran\n"
     ]
    }
   ],
   "source": [
    "def favourite_book(title):\n",
    "    print(\"My favourite book of all times is\",title)\n",
    "\n",
    "\n",
    "title = input(\"Please enter your favourite book name\")\n",
    "favourite_book(title)"
   ]
  },
  {
   "cell_type": "code",
   "execution_count": 18,
   "metadata": {},
   "outputs": [
    {
     "name": "stdout",
     "output_type": "stream",
     "text": [
      "6\n",
      "18\n",
      "8\n",
      "8\n",
      "3\n",
      "5\n",
      "16\n",
      "18\n",
      "5\n",
      "27\n",
      "18\n",
      "3\n",
      "2\n",
      "12\n",
      "18\n"
     ]
    }
   ],
   "source": [
    "import random\n",
    "for x in range(15):\n",
    "  print(random.randint(1,30))"
   ]
  },
  {
   "cell_type": "code",
   "execution_count": null,
   "metadata": {},
   "outputs": [],
   "source": []
  }
 ],
 "metadata": {
  "kernelspec": {
   "display_name": "Python 3",
   "language": "python",
   "name": "python3"
  },
  "language_info": {
   "codemirror_mode": {
    "name": "ipython",
    "version": 3
   },
   "file_extension": ".py",
   "mimetype": "text/x-python",
   "name": "python",
   "nbconvert_exporter": "python",
   "pygments_lexer": "ipython3",
   "version": "3.7.4"
  }
 },
 "nbformat": 4,
 "nbformat_minor": 2
}
