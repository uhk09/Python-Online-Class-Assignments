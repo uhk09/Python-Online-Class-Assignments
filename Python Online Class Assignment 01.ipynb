{
 "cells": [
  {
   "cell_type": "code",
   "execution_count": 1,
   "metadata": {},
   "outputs": [
    {
     "name": "stdout",
     "output_type": "stream",
     "text": [
      "Twinkle, twinkle, little star,\n",
      " \t  How I wonder what you are!\n",
      " \t \t Up above the world so high, \n",
      " \t \t Like a diamond in the sky. \n",
      " Twinkle, twinkle, little star,\n",
      " \t  How I wonder what you are!\n"
     ]
    }
   ],
   "source": [
    "\n",
    "print(\"Twinkle, twinkle, little star,\\n \\t  How I wonder what you are!\\n \\t \\t Up above the world so high, \\n \\t \\t Like a diamond in the sky. \\n Twinkle, twinkle, little star,\\n \\t  How I wonder what you are!\");"
   ]
  },
  {
   "cell_type": "code",
   "execution_count": 2,
   "metadata": {},
   "outputs": [
    {
     "name": "stdout",
     "output_type": "stream",
     "text": [
      "3.7.4 (default, Aug  9 2019, 18:34:13) [MSC v.1915 64 bit (AMD64)]\n"
     ]
    }
   ],
   "source": [
    "import sys\n",
    "print(sys.version)"
   ]
  },
  {
   "cell_type": "code",
   "execution_count": 3,
   "metadata": {},
   "outputs": [
    {
     "name": "stdout",
     "output_type": "stream",
     "text": [
      "date and time = 20-11-2019 13:56:47\n"
     ]
    }
   ],
   "source": [
    "from datetime import datetime\n",
    "now = datetime.now()\n",
    "dt_string = now.strftime(\"%d-%m-%Y %H:%M:%S\")\n",
    "print(\"date and time =\", dt_string)"
   ]
  },
  {
   "cell_type": "code",
   "execution_count": 5,
   "metadata": {},
   "outputs": [
    {
     "name": "stdout",
     "output_type": "stream",
     "text": [
      "enter number: 15\n",
      "You entered number: 15\n",
      "The area of the circle is: 47.1\n"
     ]
    }
   ],
   "source": [
    "pi = 3.14\n",
    "radius = input(\"enter number: \")\n",
    "print(\"You entered number:\",radius)\n",
    "\n",
    "radius_int = int(radius)\n",
    "\n",
    "area = pi * radius_int\n",
    "\n",
    "print(\"The area of the circle is:\",area)"
   ]
  },
  {
   "cell_type": "code",
   "execution_count": 6,
   "metadata": {},
   "outputs": [
    {
     "name": "stdout",
     "output_type": "stream",
     "text": [
      "Enter your first name please:UHK\n",
      "Enter your last name please:KHAN\n",
      "Name is: KHAN UHK\n"
     ]
    }
   ],
   "source": [
    "\n",
    "first_name = input(\"Enter your first name please:\")\n",
    "last_name = input(\"Enter your last name please:\")\n",
    "\n",
    "print(\"Name is:\",last_name,first_name)"
   ]
  },
  {
   "cell_type": "code",
   "execution_count": 7,
   "metadata": {},
   "outputs": [
    {
     "name": "stdout",
     "output_type": "stream",
     "text": [
      "Enter your first name please:U\n",
      "Enter your last name please:H\n",
      "U H\n"
     ]
    }
   ],
   "source": [
    "first_name = input(\"Enter your first name please:\")\n",
    "last_name = input(\"Enter your last name please:\")\n",
    "\n",
    "print(first_name + \" \" +last_name)"
   ]
  }
 ],
 "metadata": {
  "kernelspec": {
   "display_name": "Python 3",
   "language": "python",
   "name": "python3"
  },
  "language_info": {
   "codemirror_mode": {
    "name": "ipython",
    "version": 3
   },
   "file_extension": ".py",
   "mimetype": "text/x-python",
   "name": "python",
   "nbconvert_exporter": "python",
   "pygments_lexer": "ipython3",
   "version": "3.7.4"
  }
 },
 "nbformat": 4,
 "nbformat_minor": 2
}
