{
 "cells": [
  {
   "cell_type": "code",
   "execution_count": 3,
   "metadata": {},
   "outputs": [
    {
     "name": "stdout",
     "output_type": "stream",
     "text": [
      "Pleas enter first number:10\n",
      "Pleas enter operator:*\n",
      "Pleas enter second number:3\n",
      "The answer is 30\n"
     ]
    }
   ],
   "source": [
    "num1 = int(input(\"Pleas enter first number:\"))\n",
    "opr  = input(\"Pleas enter operator:\")\n",
    "num2 = int(input(\"Pleas enter second number:\"))\n",
    "\n",
    "\n",
    "if opr == '**':\n",
    "    total = num1 ** num2\n",
    "    print(\"The answer is\",total)\n",
    "elif opr == '+':\n",
    "    total = num1 + num2\n",
    "    print(\"The answer is\",total) \n",
    "elif opr == '-':\n",
    "    total = num1 - num2\n",
    "    print(\"The answer is\",total)\n",
    "elif opr == '*':\n",
    "    total = num1 * num2\n",
    "    print(\"The answer is\",total)\n",
    "elif opr == '/':\n",
    "    total = num1 / num2\n",
    "    print(\"The answer is\",total)\n",
    "else:\n",
    "    print(\"Please enter correct operator\")"
   ]
  },
  {
   "cell_type": "code",
   "execution_count": 4,
   "metadata": {},
   "outputs": [
    {
     "name": "stdout",
     "output_type": "stream",
     "text": [
      "The above list has numeric elements\n"
     ]
    }
   ],
   "source": [
    "alpha_numeric = ['Monday', 'Tuesday', 'Wednesday','1', '2', '3', 'a', 'b', 'c', 'd', '100', '101', '102', '103']\n",
    "\n",
    "for numeric in alpha_numeric:\n",
    "    if numeric.isnumeric() == True:\n",
    "        print(\"The above list has numeric elements\")\n",
    "        break"
   ]
  },
  {
   "cell_type": "code",
   "execution_count": 8,
   "metadata": {},
   "outputs": [
    {
     "name": "stdout",
     "output_type": "stream",
     "text": [
      "Before adding an element {'Colour': 'Red', 'Engine': '1000cc', 'Model': '2019'}\n",
      "After adding an element in dictionary {'Colour': 'Red', 'Engine': '1000cc', 'Model': '2019', 'Price': '1000000'}\n"
     ]
    }
   ],
   "source": [
    "car_details = {\"Colour\" : \"Red\", \"Engine\" : \"1000cc\", \"Model\" : \"2019\"}\n",
    "print(\"Before adding an element\",car_details)\n",
    "\n",
    "car_details [\"Price\"] = (\"1000000\")\n",
    "print(\"After adding an element in dictionary\",car_details)"
   ]
  },
  {
   "cell_type": "code",
   "execution_count": 14,
   "metadata": {},
   "outputs": [
    {
     "name": "stdout",
     "output_type": "stream",
     "text": [
      "Total eidi of all is 18000\n"
     ]
    }
   ],
   "source": [
    "eidi = {\"Uzair\" : 10000, \"Umair\" : 5000, \"Taha\" : 3000}\n",
    "total = sum(eidi.values())\n",
    "print(\"Total eidi of all is\",total)"
   ]
  },
  {
   "cell_type": "code",
   "execution_count": 46,
   "metadata": {},
   "outputs": [
    {
     "name": "stdout",
     "output_type": "stream",
     "text": [
      "After sorting of list ['Custurd', 'Custurd', 'Custurd', 'Custurd', 'Ice Cream', 'Ice Cream', 'Ice Cream', 'Ice Cream', 'Kheer', 'Lab e Shereen', 'Lab e Shereen', 'Lab e Shereen']\n",
      "\n",
      " These elements are duplicated ['Custurd', 'Ice Cream', 'Lab e Shereen']\n"
     ]
    }
   ],
   "source": [
    "Sweet_dish = [\"Ice Cream\",\"Kheer\",\"Custurd\",\"Lab e Shereen\",\"Ice Cream\",\"Custurd\",\"Lab e Shereen\",\"Ice Cream\",\"Custurd\",\"Custurd\",\"Lab e Shereen\",\"Ice Cream\"] \n",
    "Sweet_dish.sort()\n",
    "print(\"After sorting of list\",Sweet_dish)\n",
    " \n",
    "new_sweet = sorted(set(Sweet_dish))\n",
    "dup_sweet =[]\n",
    "\n",
    " \n",
    " \n",
    "for i in range(len(new_sweet)):\n",
    "        if (Sweet_dish.count(new_sweet[i]) > 1 ):\n",
    "            dup_sweet.append(new_sweet[i])\n",
    "        \n",
    "print(\"\\n These elements are duplicated\",dup_sweet)\n"
   ]
  },
  {
   "cell_type": "code",
   "execution_count": 49,
   "metadata": {},
   "outputs": [
    {
     "name": "stdout",
     "output_type": "stream",
     "text": [
      "Enter the key:9\n",
      "Key is not present in the dictionary\n"
     ]
    }
   ],
   "source": [
    "table = {1: 10, 2: 20, 3: 30, 4: 40, 5: 50, 6: 60}\n",
    "key = int(input(\"Enter the key:\"))\n",
    "\n",
    "def is_key_present(key):\n",
    "  if key in table:\n",
    "      print('Key is present in the dictionary')\n",
    "  else:\n",
    "      print('Key is not present in the dictionary')\n",
    "\n",
    "is_key_present(key)\n"
   ]
  },
  {
   "cell_type": "code",
   "execution_count": null,
   "metadata": {},
   "outputs": [],
   "source": []
  }
 ],
 "metadata": {
  "kernelspec": {
   "display_name": "Python 3",
   "language": "python",
   "name": "python3"
  },
  "language_info": {
   "codemirror_mode": {
    "name": "ipython",
    "version": 3
   },
   "file_extension": ".py",
   "mimetype": "text/x-python",
   "name": "python",
   "nbconvert_exporter": "python",
   "pygments_lexer": "ipython3",
   "version": "3.7.4"
  }
 },
 "nbformat": 4,
 "nbformat_minor": 2
}
