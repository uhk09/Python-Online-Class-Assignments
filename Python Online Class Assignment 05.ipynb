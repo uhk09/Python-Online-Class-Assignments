{
 "cells": [
  {
   "cell_type": "code",
   "execution_count": 1,
   "metadata": {},
   "outputs": [
    {
     "name": "stdout",
     "output_type": "stream",
     "text": [
      "Input a number to compute the factiorial : 3\n",
      "6\n"
     ]
    }
   ],
   "source": [
    "def factorial(n):\n",
    "    if n == 0:\n",
    "        return 1\n",
    "    else:\n",
    "        return n * factorial(n-1)\n",
    "n=int(input(\"Input a number to compute the factiorial : \"))\n",
    "print(factorial(n))"
   ]
  },
  {
   "cell_type": "code",
   "execution_count": 3,
   "metadata": {},
   "outputs": [
    {
     "name": "stdout",
     "output_type": "stream",
     "text": [
      "Please enter a string: HI how are you\n",
      "Original String :  HI how are you\n",
      "No. of Upper case characters :  2\n",
      "No. of Lower case Characters :  9\n"
     ]
    }
   ],
   "source": [
    "def string_test(s):\n",
    "    d={\"UPPER_CASE\":0, \"LOWER_CASE\":0}\n",
    "    for c in s:\n",
    "        if c.isupper():\n",
    "           d[\"UPPER_CASE\"]+=1\n",
    "        elif c.islower():\n",
    "           d[\"LOWER_CASE\"]+=1\n",
    "        else:\n",
    "           pass\n",
    "    print (\"Original String : \", s)\n",
    "    print (\"No. of Upper case characters : \", d[\"UPPER_CASE\"])\n",
    "    print (\"No. of Lower case Characters : \", d[\"LOWER_CASE\"])\n",
    "\n",
    "string_test(input(\"Please enter a string: \"))"
   ]
  },
  {
   "cell_type": "code",
   "execution_count": 4,
   "metadata": {},
   "outputs": [
    {
     "name": "stdout",
     "output_type": "stream",
     "text": [
      "10 4 66 "
     ]
    }
   ],
   "source": [
    "# list of numbers \n",
    "list1 = [10, 21, 4, 45, 66, 93] \n",
    "  \n",
    "# iterating each number in list \n",
    "for num in list1: \n",
    "      \n",
    "    # checking condition \n",
    "    if num % 2 == 0: \n",
    "       print(num, end = \" \") "
   ]
  },
  {
   "cell_type": "code",
   "execution_count": 5,
   "metadata": {},
   "outputs": [
    {
     "name": "stdout",
     "output_type": "stream",
     "text": [
      "Yes\n"
     ]
    }
   ],
   "source": [
    "def reverse(s): \n",
    "    return s[::-1] \n",
    "  \n",
    "def isPalindrome(s): \n",
    "    # Calling reverse function \n",
    "    rev = reverse(s) \n",
    "  \n",
    "    # Checking if both string are equal or not \n",
    "    if (s == rev): \n",
    "        return True\n",
    "    return False\n",
    "  \n",
    "s = \"malayalam\"\n",
    "ans = isPalindrome(s) \n",
    "  \n",
    "if ans == 1: \n",
    "    print(\"Yes\") \n",
    "else: \n",
    "    print(\"No\")"
   ]
  },
  {
   "cell_type": "code",
   "execution_count": 8,
   "metadata": {},
   "outputs": [
    {
     "name": "stdout",
     "output_type": "stream",
     "text": [
      "Please enter your number:13\n",
      "True\n"
     ]
    }
   ],
   "source": [
    "def test_prime(n):\n",
    "    if (n==1):\n",
    "        return False\n",
    "    elif (n==2):\n",
    "        return True;\n",
    "    else:\n",
    "        for x in range(2,n):\n",
    "            if(n % x==0):\n",
    "                return False\n",
    "        return True             \n",
    "print(test_prime(int(input(\"Please enter your number:\"))))"
   ]
  },
  {
   "cell_type": "code",
   "execution_count": 12,
   "metadata": {},
   "outputs": [
    {
     "name": "stdout",
     "output_type": "stream",
     "text": [
      "Medicines\n",
      "Grocery\n",
      "Garments\n",
      "Home Appliances\n"
     ]
    }
   ],
   "source": [
    "def shoppingList(*sl):\n",
    "   \"\"\"This function displays\n",
    "   the shopping list\"\"\"\n",
    "\n",
    "   # sl is a tuple with arguments\n",
    "   for shoppingList in sl:\n",
    "       print(shoppingList)\n",
    "\n",
    "shoppingList(\"Medicines\",\"Grocery\",\"Garments\",\"Home Appliances\")"
   ]
  },
  {
   "cell_type": "code",
   "execution_count": null,
   "metadata": {},
   "outputs": [],
   "source": []
  }
 ],
 "metadata": {
  "language_info": {
   "codemirror_mode": {
    "name": "ipython",
    "version": 3
   },
   "file_extension": ".py",
   "mimetype": "text/x-python",
   "name": "python",
   "nbconvert_exporter": "python",
   "pygments_lexer": "ipython3",
   "version": "3.7.4"
  }
 },
 "nbformat": 4,
 "nbformat_minor": 2
}
