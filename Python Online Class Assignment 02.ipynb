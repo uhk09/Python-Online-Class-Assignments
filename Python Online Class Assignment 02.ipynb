{
 "cells": [
  {
   "cell_type": "code",
   "execution_count": 1,
   "metadata": {},
   "outputs": [
    {
     "name": "stdout",
     "output_type": "stream",
     "text": [
      "Please enter student name:UHK\n",
      "Please put your English Marks:86\n",
      "Please put your Urdu Marks:80\n",
      "Please put your Maths Marks:95\n",
      "Please put your Science Marks:85\n",
      "Please put your Islamiyat Marks:45\n",
      "\n",
      "\n",
      "Student Name      : UHK\n",
      "\n",
      "Marks in English  : 86\n",
      "\n",
      "Marks in Urdu     : 80\n",
      "\n",
      "Marks in Maths    : 95\n",
      "\n",
      "Marks in Science  : 85\n",
      "\n",
      "Marks in Islamiyat: 45\n",
      "\n",
      "\n",
      "Grade             : A1 Grade\n",
      "\n",
      "Percentage        : 86\n"
     ]
    }
   ],
   "source": [
    "'''Please note:\n",
    "Total Marks of English is 100.\n",
    "Passing Marks of English is 50.\n",
    "\n",
    "Total Marks of Urdu is 100.\n",
    "Passing Marks of Urdu is 50.\n",
    "\n",
    "Total Marks of Maths is 100.\n",
    "Passing Marks of Maths is 50.\n",
    "\n",
    "Total Marks of Science is 100.\n",
    "Passing Marks of Science is 50.\n",
    "\n",
    "Total Marks of Islamiyat is 50.\n",
    "Passing Marks of Islamiyat is 25.\n",
    "'''\n",
    "student_name = input(\"Please enter student name:\")\n",
    "english_marks = int(input(\"Please put your English Marks:\"))\n",
    "urdu_marks = int(input(\"Please put your Urdu Marks:\"))\n",
    "maths_marks = int(input(\"Please put your Maths Marks:\"))\n",
    "science_marks = int(input(\"Please put your Science Marks:\"))\n",
    "islamiyat_marks = int(input(\"Please put your Islamiyat Marks:\"))\n",
    "\n",
    "\n",
    "gain_percentage = ((english_marks + urdu_marks + maths_marks + science_marks + islamiyat_marks)/450)*100\n",
    "\n",
    "def passed():\n",
    "    print(\"\\n\\nStudent Name      :\", student_name)\n",
    "    print(\"\\nMarks in English  :\", english_marks)\n",
    "    print(\"\\nMarks in Urdu     :\", urdu_marks)\n",
    "    print(\"\\nMarks in Maths    :\", maths_marks)\n",
    "    print(\"\\nMarks in Science  :\", science_marks)\n",
    "    print(\"\\nMarks in Islamiyat:\", islamiyat_marks)\n",
    "    print(\"\\n\\nGrade             :\", grade)\n",
    "    print(\"\\nPercentage        :\", int(gain_percentage))\n",
    "    \n",
    "    \n",
    "def failed():\n",
    "    print(\"\\n\\nStudent Name      :\", student_name)\n",
    "    print(\"\\nMarks in English  :\", english_marks)\n",
    "    print(\"\\nMarks in Urdu     :\", urdu_marks)\n",
    "    print(\"\\nMarks in Maths    :\", maths_marks)\n",
    "    print(\"\\nMarks in Science  :\", science_marks)\n",
    "    print(\"\\nMarks in Islamiyat:\", islamiyat_marks)\n",
    "    print(\"\\n\\nGrade             :\", grade)\n",
    "    print(\"\\nSorry! You are\",grade)    \n",
    "    \n",
    "if (english_marks >= 50 and urdu_marks >= 50 and maths_marks >= 50 and science_marks >= 50 and islamiyat_marks >= 25):\n",
    "    if gain_percentage >= 80 and gain_percentage <= 100:\n",
    "        grade = \"A1 Grade\"\n",
    "        passed()\n",
    "        \n",
    "    elif gain_percentage >= 70 and gain_percentage <= 79:\n",
    "        grade = \"A Grade\"\n",
    "        passed()\n",
    "        \n",
    "    elif gain_percentage >= 60 and gain_percentage <= 69:\n",
    "        grade = \"B Grade\"\n",
    "        passed()\n",
    "        \n",
    "    elif gain_percentage >= 50 and gain_percentage <= 59:\n",
    "        grade = \"C Grade\"\n",
    "        passed()\n",
    "        \n",
    "else:\n",
    "        grade = \"Fail\"\n",
    "        failed()\n",
    "        \n",
    "\n",
    "    "
   ]
  },
  {
   "cell_type": "code",
   "execution_count": 2,
   "metadata": {},
   "outputs": [
    {
     "name": "stdout",
     "output_type": "stream",
     "text": [
      "Please enter your number:15\n",
      "You enter number 15 and it is odd\n"
     ]
    }
   ],
   "source": [
    "number = int (input(\"Please enter your number:\"))\n",
    "\n",
    "if (number%2) == 0:\n",
    "    print(\"You enter number\",number, \"and it is even\")\n",
    "else:\n",
    "    print(\"You enter number\",number, \"and it is odd\")"
   ]
  },
  {
   "cell_type": "code",
   "execution_count": 4,
   "metadata": {},
   "outputs": [
    {
     "name": "stdout",
     "output_type": "stream",
     "text": [
      "Length of list is 30\n"
     ]
    }
   ],
   "source": [
    "numbers = [1, 2, 3, 4, 5, 6, 7, 8, 9, 10, 11, 12, 13, 14, 15, 16, 17, 18, 19, 20, 21, 22, 23, 24, 25, 26, 27, 28, 29, 30]\n",
    "print(\"Length of list is\",len(numbers))"
   ]
  },
  {
   "cell_type": "code",
   "execution_count": 5,
   "metadata": {},
   "outputs": [
    {
     "name": "stdout",
     "output_type": "stream",
     "text": [
      "Total numbers in list are 30\n",
      "465\n"
     ]
    }
   ],
   "source": [
    "numbers = [1, 2, 3, 4, 5, 6, 7, 8, 9, 10, 11, 12, 13, 14, 15, 16, 17, 18, 19, 20, 21, 22, 23, 24, 25, 26, 27, 28, 29, 30]\n",
    "print(\"Total numbers in list are\",len(numbers))\n",
    "total_all = 0\n",
    "for total in numbers:\n",
    "    total_all += total\n",
    "print (total_all)"
   ]
  },
  {
   "cell_type": "code",
   "execution_count": 6,
   "metadata": {},
   "outputs": [
    {
     "name": "stdout",
     "output_type": "stream",
     "text": [
      "Largest number in above list is 82345\n"
     ]
    }
   ],
   "source": [
    "numbers = [1, 2, 3, 4, 5, 6, 7, 8, 9, 10, 11, 12, 13, 14, 15, 16, 17, 18, 19, 20, 21, 22, 23, 24, 25, 26, 27, 28, 29, 30, 100, 107, 125, 199, 82345]\n",
    "\n",
    "print(\"Largest number in above list is\",max(numbers))"
   ]
  },
  {
   "cell_type": "code",
   "execution_count": 8,
   "metadata": {},
   "outputs": [
    {
     "name": "stdout",
     "output_type": "stream",
     "text": [
      "1\n",
      "1\n",
      "2\n",
      "3\n"
     ]
    }
   ],
   "source": [
    "a = [1, 1, 2, 3, 5, 8, 13, 21, 34, 55, 89]\n",
    "\n",
    "for smaller_number in a:\n",
    "    if smaller_number < 5:\n",
    "        print(smaller_number)\n",
    "    "
   ]
  },
  {
   "cell_type": "code",
   "execution_count": null,
   "metadata": {},
   "outputs": [],
   "source": []
  }
 ],
 "metadata": {
  "kernelspec": {
   "display_name": "Python 3",
   "language": "python",
   "name": "python3"
  },
  "language_info": {
   "codemirror_mode": {
    "name": "ipython",
    "version": 3
   },
   "file_extension": ".py",
   "mimetype": "text/x-python",
   "name": "python",
   "nbconvert_exporter": "python",
   "pygments_lexer": "ipython3",
   "version": "3.7.4"
  }
 },
 "nbformat": 4,
 "nbformat_minor": 2
}
