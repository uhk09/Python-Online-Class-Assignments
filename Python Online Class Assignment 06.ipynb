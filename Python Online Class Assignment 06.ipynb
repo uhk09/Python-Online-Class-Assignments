{
 "cells": [
  {
   "cell_type": "markdown",
   "metadata": {},
   "source": [
    "Define Object Oriented Programming Language?\n",
    "\n",
    "Object-Oriented Programming (OOP) is the term used to describe a programming approach based on objects and classes. \n",
    "The object-oriented paradigm allows us to organise software as a collection of objects that consist of both data and behaviour. \n",
    "This is in contrast to conventional functional programming practice that only loosely connects data and behaviour."
   ]
  },
  {
   "cell_type": "markdown",
   "metadata": {},
   "source": [
    "List down the Benefits of OOP?\n",
    "\n",
    "Benefits of OPP are mentioned below:\n",
    "\n",
    "1. Modularity for easier troubleshooting\n",
    "2. Reuse of code through inheritance\n",
    "3. Flexibility through polymorphism\n",
    "4. Effective problem solving\n",
    "\n",
    "\n"
   ]
  },
  {
   "cell_type": "markdown",
   "metadata": {},
   "source": [
    "Differentiate between function and method?\n",
    "\n",
    "A function is a piece of code that is called by name. \n",
    "It can be passed data to operate on (i.e. the parameters) and can optionally return data (the return value). \n",
    "All data that is passed to a function is explicitly passed.\n",
    "\n",
    "A method is a piece of code that is called by a name that is associated with an object. \n",
    "In most respects it is identical to a function except for two key differences:\n",
    "\n",
    "A method is implicitly passed the object on which it was called.\n",
    "A method is able to operate on data that is contained within the class (remembering that an object is an instance of a class - \n",
    "the class is the definition, the object is an instance of that data)."
   ]
  },
  {
   "cell_type": "markdown",
   "metadata": {},
   "source": [
    "Class:\n",
    "In object-oriented programming, a class is a blueprint for creating objects (a particular data structure), \n",
    "providing initial values for state (member variables or attributes), \n",
    "and implementations of behavior (member functions or methods).\n",
    "\n",
    "Object:\n",
    "In object-oriented programming (OOP), objects are the things you think about first in designing a program \n",
    "and they are also the units of code that are eventually derived from the process.\n",
    "\n",
    "Attribute:\n",
    "In Object-oriented programming(OOP), classes and objects have attributes. Attributes are data stored inside a \n",
    "class or instance and represent the state or quality of the class or instance. In short, attributes store information\n",
    "about the instance.\n",
    "\n",
    "Behaviour:\n",
    "A class's behavior determines how an instance of that class operates; for example, how it will \"react\" if asked to do \n",
    "something by another class or object or if its internal state changes. Behavior is the only way objects can do anything \n",
    "to themselves or have anything done to them."
   ]
  },
  {
   "cell_type": "code",
   "execution_count": 20,
   "metadata": {},
   "outputs": [
    {
     "name": "stdout",
     "output_type": "stream",
     "text": [
      " Mehran is one of the best selling car\n",
      "\n",
      " Prado It is one of the expensive car\n",
      "\n",
      " Mehran It is one of the modern car\n"
     ]
    }
   ],
   "source": [
    "class Car():\n",
    "    def __init__(self, Name, Colour, Model, Engine_Capacity, Price):\n",
    "        self.Name = Name\n",
    "        self.Colour = Colour\n",
    "        self.Model = Model\n",
    "        self.Engine_Capacity = Engine_Capacity\n",
    "        self.Price = Price\n",
    "    def name(self):\n",
    "        if self.Name == \"Mehran\":\n",
    "            print(\"\",self.Name,\"is one of the best selling car\")\n",
    "    def engine(self):\n",
    "        if self.Engine_Capacity >= \"2000cc\":\n",
    "            print(\"\\n\",self.Name,\"It is one of the expensive car\")\n",
    "    def model(self):\n",
    "        if self.Model >= 2019:\n",
    "            print(\"\\n\",self.Name,\"It is one of the modern car\")\n",
    "car_1 = Car(\"Mehran\",\"red\",2019,\"800cc\",950000)\n",
    "car_2 = Car(\"Cultus\",\"white\",2018,\"1000cc\",1200000)\n",
    "car_3 = Car(\"City\",\"grey\",2019,\"1300cc\",2000000)\n",
    "car_4 = Car(\"Prado\",\"black\",2017,\"2000cc\",3000000)\n",
    "car_5 = Car(\"Mehran\",\"blue\",2016,\"800cc\",950000)\n",
    "\n",
    "car_1.name()\n",
    "car_4.engine()\n",
    "car_1.model()\n"
   ]
  },
  {
   "cell_type": "code",
   "execution_count": null,
   "metadata": {},
   "outputs": [],
   "source": []
  },
  {
   "cell_type": "code",
   "execution_count": null,
   "metadata": {},
   "outputs": [],
   "source": []
  }
 ],
 "metadata": {
  "kernelspec": {
   "display_name": "Python 3",
   "language": "python",
   "name": "python3"
  },
  "language_info": {
   "codemirror_mode": {
    "name": "ipython",
    "version": 3
   },
   "file_extension": ".py",
   "mimetype": "text/x-python",
   "name": "python",
   "nbconvert_exporter": "python",
   "pygments_lexer": "ipython3",
   "version": "3.7.4"
  }
 },
 "nbformat": 4,
 "nbformat_minor": 2
}
